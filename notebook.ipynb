{
 "cells": [
  {
   "cell_type": "code",
   "execution_count": null,
   "id": "8f616955",
   "metadata": {},
   "outputs": [],
   "source": [
    "import pandas as pd\n",
    "\n",
    "fake_ds = pd.read_csv('dataset\\Fake.csv')\n",
    "true_ds = pd.read_csv('dataset\\True.csv')\n",
    "\n",
    "fake_ds['label'] = 0\n",
    "true_ds['label'] = 1\n",
    "\n",
    "ds = pd.concat([fake_ds, true_ds])\n",
    "ds = ds.sample(frac=1, random_state=42).reset_index(drop=True)"
   ]
  },
  {
   "cell_type": "code",
   "execution_count": null,
   "id": "ebc1e39f",
   "metadata": {},
   "outputs": [],
   "source": [
    "import re, nltk\n",
    "nltk.download('stopwords')\n",
    "from nltk.corpus import stopwords\n",
    "\n",
    "stop_words = set(stopwords.words('english'))\n",
    "\n",
    "def process_text(text):\n",
    "    text = text.lower()\n",
    "    text = re.sub(r'[^\\w\\s]', '', text)\n",
    "    return ' '.join([word for word in text.split() if word not in stop_words])\n",
    "ds['text'] = ds['title']  + ' ' + ds['text']\n",
    "ds['text'] = ds['text'].apply(process_text)"
   ]
  },
  {
   "cell_type": "code",
   "execution_count": null,
   "id": "b13a33b0",
   "metadata": {},
   "outputs": [],
   "source": [
    "from sklearn.model_selection import train_test_split\n",
    "\n",
    "x = ds['text']\n",
    "y = ds['label']\n",
    "\n",
    "x_train, x_test, y_train, y_test = train_test_split(x, y, test_size=0.25, random_state=42, stratify=y)"
   ]
  },
  {
   "cell_type": "code",
   "execution_count": null,
   "id": "37a1ed97",
   "metadata": {},
   "outputs": [],
   "source": [
    "from sklearn.feature_extraction.text import TfidfVectorizer\n",
    "\n",
    "vectorizer = TfidfVectorizer(stop_words='english', max_df=0.7, max_features=5000)\n",
    "x_train_vec = vectorizer.fit_transform(x_train)\n",
    "x_test_vec = vectorizer.transform(x_test)"
   ]
  },
  {
   "cell_type": "code",
   "execution_count": null,
   "id": "ac132f35",
   "metadata": {},
   "outputs": [],
   "source": [
    "from sklearn.linear_model import LogisticRegression\n",
    "\n",
    "model = LogisticRegression(max_iter=1000)\n",
    "model.fit(x_train_vec, y_train)"
   ]
  },
  {
   "cell_type": "code",
   "execution_count": null,
   "id": "1e6adea1",
   "metadata": {},
   "outputs": [],
   "source": [
    "from sklearn.metrics import accuracy_score, classification_report, confusion_matrix\n",
    "y_pred = model.predict(x_test_vec)\n",
    "\n",
    "print('Accuracy:', accuracy_score(y_test, y_pred))\n",
    "print(confusion_matrix(y_test, y_pred))\n",
    "print(classification_report(y_test, y_pred))"
   ]
  },
  {
   "cell_type": "code",
   "execution_count": null,
   "id": "ec30a595",
   "metadata": {},
   "outputs": [],
   "source": [
    "import seaborn as sb\n",
    "import matplotlib.pyplot as plot\n",
    "\n",
    "sb.heatmap(confusion_matrix(y_test, y_pred), annot=True, fmt='d', cmap='Blues', xticklabels=['Fake', 'True'], yticklabels=['Fake', 'True'])\n",
    "\n",
    "plot.xlabel('Predicted')\n",
    "plot.ylabel('Actual')\n",
    "plot.title('confusion Matrix')\n",
    "plot.show()"
   ]
  },
  {
   "cell_type": "code",
   "execution_count": null,
   "id": "18a72dd9",
   "metadata": {},
   "outputs": [],
   "source": [
    "clean_input = process_text(\"\"\"\n",
    "Iran claims its president was injured in Israeli airstrike last month\n",
    "Iranian President Masoud Pezeshkian suffered a minor leg injury while escaping an Israeli airstrike last month, according to Iran’s semi-official Fars news agency.\n",
    "\n",
    "The alleged attack happened on June 16 at a secure government facility in Western Tehran, where Pezeshkian was holding a meeting with other senior officials, according to the outlet, which is managed by Iran’s powerful Islamic Revolutionary Guard Corps.\n",
    "\n",
    "Six bombs or missiles reportedly targeted entry and exit points to block attempts to evacuate the building and disrupt air flow inside. Power was also cut to the targeted floor, after the blasts, the report said.\n",
    "\n",
    "The officials escaped through an emergency hatch, according to the report. Pezeshkian and several others reportedly suffered minor leg injuries during the escape.\n",
    "The report claimed the attack was similar to an Israeli plan that led to the assassination of Hezbollah leader Seyed Hassan Nasrallah in September. \n",
    "The alleged strike was said to have happened on the fourth day of the 12-day war between Israel and Iran. \n",
    "\n",
    "Israel has said its military targeted some of Iran’s top military leaders and nuclear scientists in a series of air strikes aimed at preventing the regime from realizing its goal of producing nuclear weapons.                                                      \n",
    "\"\"\")\n",
    "input_vector = vectorizer.transform([clean_input])\n",
    "prediction = model.predict(input_vector)\n",
    "print(\"prediction\", \"Fake\" if prediction[0] == 0 else \"Real\")"
   ]
  }
 ],
 "metadata": {
  "kernelspec": {
   "display_name": ".venv",
   "language": "python",
   "name": "python3"
  },
  "language_info": {
   "codemirror_mode": {
    "name": "ipython",
    "version": 3
   },
   "file_extension": ".py",
   "mimetype": "text/x-python",
   "name": "python",
   "nbconvert_exporter": "python",
   "pygments_lexer": "ipython3",
   "version": "3.13.5"
  }
 },
 "nbformat": 4,
 "nbformat_minor": 5
}
